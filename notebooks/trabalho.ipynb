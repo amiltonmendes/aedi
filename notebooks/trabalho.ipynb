{
 "cells": [
  {
   "cell_type": "markdown",
   "source": [
    "### Bibliotecas utilizadas"
   ],
   "metadata": {
    "collapsed": false,
    "pycharm": {
     "name": "#%% md\n"
    }
   }
  },
  {
   "cell_type": "code",
   "execution_count": 5,
   "outputs": [],
   "source": [
    "import matplotlib.pyplot as plt\n",
    "import src.retrieveData as etl\n",
    "from src.returnAnalysis import *\n",
    "from src.best_fit import *\n",
    "import pandas as pd"
   ],
   "metadata": {
    "collapsed": false,
    "pycharm": {
     "name": "#%%\n"
    }
   }
  },
  {
   "cell_type": "markdown",
   "source": [
    "### Carregando e plotando dados"
   ],
   "metadata": {
    "collapsed": false,
    "pycharm": {
     "name": "#%% md\n"
    }
   }
  },
  {
   "cell_type": "code",
   "execution_count": 2,
   "outputs": [
    {
     "data": {
      "text/plain": "<AxesSubplot:xlabel='date'>"
     },
     "execution_count": 2,
     "metadata": {},
     "output_type": "execute_result"
    },
    {
     "data": {
      "text/plain": "<Figure size 432x288 with 1 Axes>",
      "image/png": "[encoded data removed]"
     },
     "metadata": {
      "needs_background": "light"
     },
     "output_type": "display_data"
    }
   ],
   "source": [
    "%matplotlib inline\n",
    "# Recovering data\n",
    "df = etl.get_data_from_csv(\"../ativos/\")\n",
    "df.plot(x=\"date\", y=[\"ibov\", \"tots3\"])"
   ],
   "metadata": {
    "collapsed": false,
    "pycharm": {
     "name": "#%%\n"
    }
   }
  },
  {
   "cell_type": "code",
   "execution_count": 4,
   "outputs": [
    {
     "data": {
      "text/plain": "          date    ibov  tots3\n240 2020-03-16  71.168  16.32\n239 2020-03-17  74.617  16.69\n238 2020-03-18  66.895  14.13\n237 2020-03-19  68.332  13.88\n236 2020-03-20  67.069  14.41",
      "text/html": "<div>\n<style scoped>\n    .dataframe tbody tr th:only-of-type {\n        vertical-align: middle;\n    }\n\n    .dataframe tbody tr th {\n        vertical-align: top;\n    }\n\n    .dataframe thead th {\n        text-align: right;\n    }\n</style>\n<table border=\"1\" class=\"dataframe\">\n  <thead>\n    <tr style=\"text-align: right;\">\n      <th></th>\n      <th>date</th>\n      <th>ibov</th>\n      <th>tots3</th>\n    </tr>\n  </thead>\n  <tbody>\n    <tr>\n      <th>240</th>\n      <td>2020-03-16</td>\n      <td>71.168</td>\n      <td>16.32</td>\n    </tr>\n    <tr>\n      <th>239</th>\n      <td>2020-03-17</td>\n      <td>74.617</td>\n      <td>16.69</td>\n    </tr>\n    <tr>\n      <th>238</th>\n      <td>2020-03-18</td>\n      <td>66.895</td>\n      <td>14.13</td>\n    </tr>\n    <tr>\n      <th>237</th>\n      <td>2020-03-19</td>\n      <td>68.332</td>\n      <td>13.88</td>\n    </tr>\n    <tr>\n      <th>236</th>\n      <td>2020-03-20</td>\n      <td>67.069</td>\n      <td>14.41</td>\n    </tr>\n  </tbody>\n</table>\n</div>"
     },
     "execution_count": 4,
     "metadata": {},
     "output_type": "execute_result"
    }
   ],
   "source": [
    "df.head()"
   ],
   "metadata": {
    "collapsed": false,
    "pycharm": {
     "name": "#%%\n"
    }
   }
  },
  {
   "cell_type": "markdown",
   "source": [
    "### Plotar log return"
   ],
   "metadata": {
    "collapsed": false,
    "pycharm": {
     "name": "#%% md\n"
    }
   }
  },
  {
   "cell_type": "code",
   "execution_count": 3,
   "outputs": [
    {
     "data": {
      "text/plain": "<AxesSubplot:ylabel='Frequency'>"
     },
     "execution_count": 3,
     "metadata": {},
     "output_type": "execute_result"
    },
    {
     "data": {
      "text/plain": "<Figure size 432x288 with 1 Axes>",
      "image/png": "[encoded data removed]"
     },
     "metadata": {
      "needs_background": "light"
     },
     "output_type": "display_data"
    }
   ],
   "source": [
    "# 1.a) Getting log return dataframe\n",
    "log_ret = generate_log_return(df)\n",
    "log_ret.plot.hist(alpha=0.5, bins=len(log_ret))"
   ],
   "metadata": {
    "collapsed": false,
    "pycharm": {
     "name": "#%%\n"
    }
   }
  },
  {
   "cell_type": "code",
   "execution_count": 4,
   "outputs": [
    {
     "data": {
      "text/plain": "         ibov     tots3\n240  0.000000  0.000000\n239  0.047325  0.022418\n238 -0.109244 -0.166510\n237  0.021254 -0.017851\n236 -0.018656  0.037473",
      "text/html": "<div>\n<style scoped>\n    .dataframe tbody tr th:only-of-type {\n        vertical-align: middle;\n    }\n\n    .dataframe tbody tr th {\n        vertical-align: top;\n    }\n\n    .dataframe thead th {\n        text-align: right;\n    }\n</style>\n<table border=\"1\" class=\"dataframe\">\n  <thead>\n    <tr style=\"text-align: right;\">\n      <th></th>\n      <th>ibov</th>\n      <th>tots3</th>\n    </tr>\n  </thead>\n  <tbody>\n    <tr>\n      <th>240</th>\n      <td>0.000000</td>\n      <td>0.000000</td>\n    </tr>\n    <tr>\n      <th>239</th>\n      <td>0.047325</td>\n      <td>0.022418</td>\n    </tr>\n    <tr>\n      <th>238</th>\n      <td>-0.109244</td>\n      <td>-0.166510</td>\n    </tr>\n    <tr>\n      <th>237</th>\n      <td>0.021254</td>\n      <td>-0.017851</td>\n    </tr>\n    <tr>\n      <th>236</th>\n      <td>-0.018656</td>\n      <td>0.037473</td>\n    </tr>\n  </tbody>\n</table>\n</div>"
     },
     "execution_count": 4,
     "metadata": {},
     "output_type": "execute_result"
    }
   ],
   "source": [
    "log_ret.head()"
   ],
   "metadata": {
    "collapsed": false,
    "pycharm": {
     "name": "#%%\n"
    }
   }
  },
  {
   "cell_type": "markdown",
   "source": [
    "### Comparação da distribuição normal com os retornos dos ativos avaliados"
   ],
   "metadata": {
    "collapsed": false,
    "pycharm": {
     "name": "#%% md\n"
    }
   }
  },
  {
   "cell_type": "code",
   "execution_count": 9,
   "outputs": [
    {
     "data": {
      "text/plain": "<matplotlib.legend.Legend at 0x1b6c2056a08>"
     },
     "execution_count": 9,
     "metadata": {},
     "output_type": "execute_result"
    },
    {
     "data": {
      "text/plain": "<Figure size 432x288 with 1 Axes>",
      "image/png": "[encoded data removed]"
     },
     "metadata": {
      "needs_background": "light"
     },
     "output_type": "display_data"
    }
   ],
   "source": [
    "# 1.d) Normal Distribution simulation with returns\n",
    "# ptrim = 0.01: Shows the \"entire\" normal distribution\n",
    "# ptrim = 0.45: Shows the assets distribution much better\n",
    "ptrim = 0.45\n",
    "x_axis = np.linspace(st.norm.ppf(ptrim), st.norm.ppf(1-ptrim), 100)\n",
    "plt.plot(x_axis, normal_simulation(log_ret, ptrim))\n",
    "plt.plot(x_axis, st.norm.pdf(x_axis), '--')\n",
    "plt.legend([\"ibov\", \"tots3\", \"normal\"])"
   ],
   "metadata": {
    "collapsed": false,
    "pycharm": {
     "name": "#%%\n"
    }
   }
  },
  {
   "cell_type": "markdown",
   "source": [
    "### Intervalos de confiança"
   ],
   "metadata": {
    "collapsed": false,
    "pycharm": {
     "name": "#%% md\n"
    }
   }
  },
  {
   "cell_type": "code",
   "execution_count": 10,
   "outputs": [
    {
     "name": "stdout",
     "output_type": "stream",
     "text": [
      "IC 95%:\n",
      " - IBOV:  (0.0007009308578945393, 0.0032961133747538875)\n",
      " - TOTS3: (0.00043174036601635124, 0.004653720658014619)\n",
      "IC 99%:\n",
      " - IBOV:  (0.0017391670512913178, 0.0022578771813571087)\n",
      " - TOTS3: (0.002120797963500956, 0.0029646630605300135)\n"
     ]
    }
   ],
   "source": [
    "# 1.e) Confidence Interval of returns\n",
    "ibov_ci_95 = confidence_interval(log_ret[\"ibov\"], 0.05)\n",
    "ibov_ci_99 = confidence_interval(log_ret[\"ibov\"], 0.01)\n",
    "tots3_ci_95 = confidence_interval(log_ret[\"tots3\"], 0.05)\n",
    "tots3_ci_99 = confidence_interval(log_ret[\"tots3\"], 0.01)\n",
    "print(\"IC 95%:\")\n",
    "print(\" - IBOV: \", ibov_ci_95)\n",
    "print(\" - TOTS3:\", tots3_ci_95)\n",
    "print(\"IC 99%:\")\n",
    "print(\" - IBOV: \", ibov_ci_99)\n",
    "print(\" - TOTS3:\", tots3_ci_99)"
   ],
   "metadata": {
    "collapsed": false,
    "pycharm": {
     "name": "#%%\n"
    }
   }
  },
  {
   "cell_type": "markdown",
   "source": [
    "### Teste de hipótese"
   ],
   "metadata": {
    "collapsed": false,
    "pycharm": {
     "name": "#%% md\n"
    }
   }
  },
  {
   "cell_type": "code",
   "execution_count": 27,
   "outputs": [
    {
     "name": "stdout",
     "output_type": "stream",
     "text": [
      "Return 10% (alpha = 99%): False\n"
     ]
    }
   ],
   "source": [
    "# 1.f) Hypothesis test\n",
    "print(\"Return 10% (alpha = 99%):\", hyp_return_is(log_ret[\"tots3\"], hyp_alt=0.1, alpha=0.01))"
   ],
   "metadata": {
    "collapsed": false,
    "pycharm": {
     "name": "#%%\n"
    }
   }
  },
  {
   "cell_type": "code",
   "execution_count": null,
   "metadata": {
    "collapsed": true,
    "pycharm": {
     "is_executing": true
    }
   },
   "outputs": [],
   "source": [
    "from src.best_fit import best_fit_distribution\n",
    "\n",
    "\n",
    "# Load data from statsmodels datasets\n",
    "data = log_ret['tots3'] #pd.Series(sm.datasets.elnino.load_pandas().data.set_index('YEAR').values.ravel())\n",
    "\n",
    "# Plot for comparison\n",
    "plt.figure(figsize=(12,8))\n",
    "ax = data.plot(kind='hist', bins=50, alpha=0.5)#, normed=True, alpha=0.5)#, color=plt.rcParams['axes.color_cycle'][1])\n",
    "# Save plot limits\n",
    "dataYLim = ax.get_ylim()\n",
    "\n",
    "# Find best fit distribution\n",
    "best_fit_name, best_fit_params = best_fit_distribution(data, 200, ax)"
   ]
  },
  {
   "cell_type": "code",
   "execution_count": null,
   "outputs": [],
   "source": [
    "best_dist = getattr(st, best_fit_name)\n",
    "\n",
    "# Update plots\n",
    "ax.set_ylim(dataYLim)\n",
    "ax.set_title(u'Totvs Data.\\n All Fitted Distributions')\n",
    "ax.set_xlabel(u'Log returns')\n",
    "ax.set_ylabel('Frequency')\n",
    "\n",
    "# Make PDF with best params\n",
    "pdf = make_pdf(best_dist, best_fit_params)\n",
    "\n",
    "# Display\n",
    "plt.figure(figsize=(12,8))\n",
    "ax = pdf.plot(lw=2, label='PDF', legend=True)\n",
    "\n",
    "#data.plot(kind='hist', bins=50, normed=True, alpha=0.5, label='Data', legend=True, ax=ax)\n",
    "data.plot(kind='hist', bins=50, alpha=0.5, label='Data', legend=True, ax=ax)\n",
    "\n",
    "param_names = (best_dist.shapes + ', loc, scale').split(', ') if best_dist.shapes else ['loc', 'scale']\n",
    "param_str = ', '.join(['{}={:0.2f}'.format(k,v) for k,v in zip(param_names, best_fit_params)])\n",
    "dist_str = '{}({})'.format(best_fit_name, param_str)\n",
    "\n",
    "ax.set_title(u'Totvs returns best fit distribution \\n' + dist_str)\n",
    "ax.set_xlabel(u'Log return')\n",
    "ax.set_ylabel('Frequency')"
   ],
   "metadata": {
    "collapsed": false,
    "pycharm": {
     "name": "#%%\n",
     "is_executing": true
    }
   }
  },
  {
   "cell_type": "code",
   "execution_count": null,
   "outputs": [],
   "source": [],
   "metadata": {
    "collapsed": false,
    "pycharm": {
     "name": "#%%\n"
    }
   }
  }
 ],
 "metadata": {
  "kernelspec": {
   "display_name": "Python 3",
   "language": "python",
   "name": "python3"
  },
  "language_info": {
   "codemirror_mode": {
    "name": "ipython",
    "version": 2
   },
   "file_extension": ".py",
   "mimetype": "text/x-python",
   "name": "python",
   "nbconvert_exporter": "python",
   "pygments_lexer": "ipython2",
   "version": "2.7.6"
  }
 },
 "nbformat": 4,
 "nbformat_minor": 0
}